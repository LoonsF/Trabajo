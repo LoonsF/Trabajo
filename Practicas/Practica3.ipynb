{
 "cells": [
  {
   "cell_type": "code",
   "execution_count": 1,
   "metadata": {},
   "outputs": [
    {
     "name": "stdout",
     "output_type": "stream",
     "text": [
      "El factorial de 5 es: 120\n"
     ]
    }
   ],
   "source": [
    "def calcular_factorial(n):\n",
    "    if n == 0 or n == 1:\n",
    "        return 1\n",
    "    else:\n",
    "        factorial = 1\n",
    "        for i in range(1, n + 1):\n",
    "            factorial *= i\n",
    "        return factorial\n",
    "\n",
    "numero = int(input(\"Ingrese un número: \"))\n",
    "print(\"El factorial de\", numero, \"es:\", calcular_factorial(numero))"
   ]
  },
  {
   "cell_type": "code",
   "execution_count": 2,
   "metadata": {},
   "outputs": [
    {
     "name": "stdout",
     "output_type": "stream",
     "text": [
      "3 es primo.\n"
     ]
    }
   ],
   "source": [
    "def es_primo(n):\n",
    "    if n <= 1:\n",
    "        return False\n",
    "    for i in range(2, int(n ** 0.5) + 1):\n",
    "        if n % i == 0:\n",
    "            return False\n",
    "    return True\n",
    "\n",
    "numero = int(input(\"Ingrese un número: \"))\n",
    "if es_primo(numero):\n",
    "    print(numero, \"es primo.\")\n",
    "else:\n",
    "    print(numero, \"no es primo.\")"
   ]
  },
  {
   "cell_type": "code",
   "execution_count": 7,
   "metadata": {},
   "outputs": [
    {
     "name": "stdout",
     "output_type": "stream",
     "text": [
      "'marco' no es un palíndromo.\n"
     ]
    }
   ],
   "source": [
    "def es_palindromo(tex):\n",
    "    tex = tex.replace(\" \", \"\").lower()  \n",
    "    return tex == tex[::-1] \n",
    "texto = input(\"Introduce una palabra:\")\n",
    "if es_palindromo(texto):\n",
    "    print(f\"'{texto}' es un palíndromo.\")\n",
    "else:\n",
    "    print(f\"'{texto}' no es un palíndromo.\")"
   ]
  },
  {
   "cell_type": "code",
   "execution_count": 8,
   "metadata": {},
   "outputs": [
    {
     "name": "stdout",
     "output_type": "stream",
     "text": [
      "[1, 2, 3, 4, 5, 6, 7]\n",
      "numero que se repite 1 y se repite 1 veces.\n"
     ]
    }
   ],
   "source": [
    "from collections import Counter\n",
    "import os\n",
    "os.system(\"cls\")\n",
    "def numero_que_mas_se_repite():\n",
    "    numeros = []\n",
    "    for i in range(7):\n",
    "        num = int(input(f\"ingrese un numero {i+1}: \"))\n",
    "        numeros.append(num)\n",
    "    \n",
    "    contador = Counter(numeros)\n",
    "    numComun = contador.most_common(1)[0] \n",
    "    print(numeros)\n",
    "    print(f\"numero que se repite {numComun[0]} y se repite {numComun[1]} veces.\")\n",
    "\n",
    "numero_que_mas_se_repite()"
   ]
  }
 ],
 "metadata": {
  "kernelspec": {
   "display_name": "Python 3",
   "language": "python",
   "name": "python3"
  },
  "language_info": {
   "codemirror_mode": {
    "name": "ipython",
    "version": 3
   },
   "file_extension": ".py",
   "mimetype": "text/x-python",
   "name": "python",
   "nbconvert_exporter": "python",
   "pygments_lexer": "ipython3",
   "version": "3.13.2"
  }
 },
 "nbformat": 4,
 "nbformat_minor": 2
}
